{
 "cells": [
  {
   "cell_type": "markdown",
   "metadata": {},
   "source": [
    "### General rules:\n",
    " * For all figures that you generate, remember to add meaningful labels to the axes (including units), and provide a legend and colorbar, if applicable.\n",
    " * Do not hard code constants, like number of samples, number of channels, etc in your program. These values should always be determined from the given data. This way, you can easily use the code to analyse other data sets.\n",
    " * Do not use high-level functions from toolboxes like scikit-learn.\n",
    " * Before submitting, check your code by executing: Kernel -> Restart & run all.\n",
    " * Replace *Template* by your *FirstnameLastname* in the filename, or by *Lastname1Lastname2* if you work in pairs."
   ]
  },
  {
   "cell_type": "markdown",
   "metadata": {},
   "source": [
    "# BCI-IL - Exercise Sheet #08"
   ]
  },
  {
   "cell_type": "markdown",
   "metadata": {},
   "source": [
    "#### Name:"
   ]
  },
  {
   "cell_type": "code",
   "execution_count": 57,
   "metadata": {},
   "outputs": [],
   "source": [
    "% matplotlib inline\n",
    "\n",
    "import numpy as np\n",
    "import scipy as sp\n",
    "import scipy.signal\n",
    "from matplotlib import pyplot as plt\n",
    "\n",
    "import bci_minitoolbox as bci\n",
    "import bci_classifiers as cfy"
   ]
  },
  {
   "cell_type": "markdown",
   "metadata": {},
   "source": [
    "## Preparation: Load data"
   ]
  },
  {
   "cell_type": "code",
   "execution_count": 58,
   "metadata": {},
   "outputs": [],
   "source": [
    "fname = 'imagVPaw.npz'\n",
    "cnt, fs, clab, mnt, mrk_pos, mrk_class, mrk_className = bci.load_data(fname)"
   ]
  },
  {
   "cell_type": "markdown",
   "metadata": {},
   "source": [
    "## Exercise 1: Implement Common Spatial Pattern (CSP) Analysis  (4 points)\n",
    "Implement a function for performing a common spatial pattern (CSP) analysis of two-class input data."
   ]
  },
  {
   "cell_type": "code",
   "execution_count": 62,
   "metadata": {},
   "outputs": [],
   "source": [
    "def train_CSP(epo, mrk_class):\n",
    "    ''' \n",
    "    Usage:\n",
    "        W, d = trainCSP(epo, mrk_class)\n",
    "    Parameters:\n",
    "        epo:   a 3D array of segmented signals (samples x channels x epochs)\n",
    "        mrk_class: a 1D array of shape(n_epochs) that assigns markers to classes (0, 1)\n",
    "    Returns:\n",
    "        W:     matrix of spatial filters\n",
    "        d:     vector of generalized Eigenvalues\n",
    "    '''\n",
    "\n",
    "    n_channels = epo.shape[1]\n",
    "    n_classes = 2\n",
    "\n",
    "    covs = np.zeros((n_classes, n_channels, n_channels))\n",
    "    sample_weights = list()\n",
    "    \n",
    "    for class_idx, this_class in enumerate([0,1]):\n",
    "#         Y = np.transpose(epo[mrk_class == this_class], [1, 2, 0])\n",
    "        Y = epo[:, :, mrk_class==this_class]\n",
    "        Y = Y.reshape(n_channels, -1)\n",
    "        cov = np.cov(Y)\n",
    "        weight = sum(mrk_class == this_class)\n",
    "        covs[class_idx] = cov\n",
    "        covs[class_idx] /= np.trace(cov)            # Normalize covariance with its trace\n",
    "        sample_weights.append(weight)\n",
    "        \n",
    "    \n",
    "    eigen_values, eigen_vectors = sp.linalg.eigh(covs[0], covs.sum(0))\n",
    "    ix = np.argsort(np.abs(eigen_values - 0.5))[::-1]\n",
    "    \n",
    "    eigen_vectors = eigen_vectors[:, ix]\n",
    "    filters = eigen_vectors.T\n",
    "    patterns = sp.linalg.pinv2(eigen_vectors)\n",
    "    \n",
    "#     X = np.asarray([np.dot(pick_filters, epoch) for epoch in X])\n",
    "    \n",
    "    return filters, eigen_values"
   ]
  },
  {
   "cell_type": "code",
   "execution_count": 67,
   "metadata": {},
   "outputs": [
    {
     "name": "stdout",
     "output_type": "stream",
     "text": [
      "(111, 51, 280)\n",
      "['left' 'right']\n"
     ]
    }
   ],
   "source": [
    "epo, epo_t = bci.makeepochs(cnt, fs, mrk_pos, [-100,1000])\n",
    "\n",
    "print(epo.shape)\n",
    "\n",
    "print (mrk_className)"
   ]
  },
  {
   "cell_type": "markdown",
   "metadata": {},
   "source": [
    "## Exercise 2: Perform CSP Analysis on Motor Imagery Data  (3 points)\n",
    "Apply a band-pass filter to the given (continuous) EEG signals with pass-band [10.5 13.] Hz, or use your findings of exercises \\#1 on the last sheet to define the frequency band. Perform a CSP analysis for the time interval 750-4000 ms.\n",
    "Plot the generalized Eigenvalues corresponding to both classes in one plot and select the 6 CSP filters for which the best discrimination can be expected according to the Eigenvalues. Apply the six spatial filters to the band-pass filtered EEG signals. The resulting signals are subsequently called CSP-filtered signals."
   ]
  },
  {
   "cell_type": "code",
   "execution_count": 65,
   "metadata": {},
   "outputs": [
    {
     "name": "stdout",
     "output_type": "stream",
     "text": [
      "(426, 51, 280)\n"
     ]
    },
    {
     "data": {
      "text/plain": [
       "[<matplotlib.lines.Line2D at 0x7f2ada344cc0>]"
      ]
     },
     "execution_count": 65,
     "metadata": {},
     "output_type": "execute_result"
    },
    {
     "data": {
      "image/png": "[encoded data removed]",
      "text/plain": [
       "<Figure size 1296x432 with 1 Axes>"
      ]
     },
     "metadata": {},
     "output_type": "display_data"
    }
   ],
   "source": [
    "# d2 = 1- d1, where the d's are the eigenvalues for the two covariance matrices. USe these to calculate\n",
    "band = np.array([10.5, 13.])\n",
    "\n",
    "Wn = band / fs * 2\n",
    "b, a = scipy.signal.butter(5, Wn, btype='bandpass')\n",
    "cnt_flt = sp.signal.lfilter(b, a, cnt)\n",
    "\n",
    "epo, epo_t = bci.makeepochs(cnt_flt, fs, mrk_pos, [750,5000])\n",
    "\n",
    "print(epo.shape)\n",
    "\n",
    "filters, eigen_values = train_CSP(epo, mrk_class)\n",
    "\n",
    "plt.figure(figsize=[18, 6])\n",
    "plt.plot(eigen_values)"
   ]
  },
  {
   "cell_type": "markdown",
   "metadata": {},
   "source": [
    "## Exercise 3:  Visualizing of CSP Patterns and ERD Curves  (4 points)\n",
    "Visualize the six spatial patterns corresponding to the CSP filters as topographies. (If you did not succeed with exercise \\#1 or \\#2, download the file `imagVPaw_csp}` from the course page, which includes the full filter matrix $\\bf W$ and Eigenvalues $\\bf d$).\n",
    "Take the CSP-filtered signals and visualize the classwise averaged ERD/ERS curves in the 6 channels.\n",
    "Use the time interval from -500 ms to 6000 ms. Determine from these curves a time interval which shows a good discrimination of between the two motor imagery conditions for subsequent tasks.\n",
    "**Note:** It would be better to use $r^2$-values for this purpose, but we skip that for this exercise."
   ]
  },
  {
   "cell_type": "code",
   "execution_count": null,
   "metadata": {},
   "outputs": [],
   "source": [
    "# data = np.load('imagVPaw_csp.npz')\n",
    "# w = data['W']\n",
    "# d = data['d']\n"
   ]
  },
  {
   "cell_type": "markdown",
   "metadata": {},
   "source": [
    "## Exercise 4: Visualization of log band-power Features  (4 points)\n",
    "Take the CSP-filtered signals, extract single trials in the time interval determined in exercise \\#3 (or 750-4000 ms if you did not succeed) and calculate the log variance within each trial. Make a figure with six subplots, in which for each CSP-channel, the log band-power values are shown (trials on $x$-axis, log bp on $y$ axis).\n",
    "Calculate the signed r^2-values for each of the six features and add them as title of the subplots. \n",
    "Determine log band-power values for each trial and channel (without CSP filter), calculate the r^2-values for each channel and display the result as topography."
   ]
  },
  {
   "cell_type": "code",
   "execution_count": null,
   "metadata": {},
   "outputs": [],
   "source": [
    "# LDA needs linear data, which is more easily achieveable through log-band power"
   ]
  }
 ],
 "metadata": {
  "anaconda-cloud": {},
  "kernelspec": {
   "display_name": "Python 3",
   "language": "python",
   "name": "python3"
  },
  "language_info": {
   "codemirror_mode": {
    "name": "ipython",
    "version": 3
   },
   "file_extension": ".py",
   "mimetype": "text/x-python",
   "name": "python",
   "nbconvert_exporter": "python",
   "pygments_lexer": "ipython3",
   "version": "3.6.9"
  }
 },
 "nbformat": 4,
 "nbformat_minor": 1
}
