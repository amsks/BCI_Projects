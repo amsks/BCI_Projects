{
 "cells": [
  {
   "cell_type": "markdown",
   "metadata": {},
   "source": [
    "### General rules:\n",
    " * For all figures that you generate, remember to add meaningful labels to the axes, and make a legend, if applicable.\n",
    " * Do not hard code constants, like number of samples, number of channels, etc in your program. These values should always be determined from the given data. This way, you can easily use the code to analyse other data sets.\n",
    " * Do not use high-level functions from toolboxes like scikit-learn.\n",
    " * Replace *Template* by your *FirstnameLastname* in the filename, or by *Lastname1Lastname2* if you work in pairs."
   ]
  },
  {
   "cell_type": "markdown",
   "metadata": {},
   "source": [
    "# BCI-IL - Exercise Sheet #04"
   ]
  },
  {
   "cell_type": "markdown",
   "metadata": {},
   "source": [
    "#### Name:"
   ]
  },
  {
   "cell_type": "code",
   "execution_count": 1,
   "metadata": {},
   "outputs": [],
   "source": [
    "% matplotlib inline\n",
    "\n",
    "import numpy as np\n",
    "import scipy as sp\n",
    "from matplotlib import pyplot as plt\n",
    "\n",
    "import bci_minitoolbox as bci\n",
    "import bci_classifiers as cfy"
   ]
  },
  {
   "cell_type": "markdown",
   "metadata": {},
   "source": [
    "## Exercise 1: Implementation of Shrinkage for Covariance Estimation  (7 points)\n",
    "Implement a function `cov_shrink` that estimates the covariance matrix of data using shrinkage with the analytic method of determining the shrinkage coefficient as presented in the lecture. Input and output of that function should be as in the function `numpy.cov`.\n",
    "\n",
    "If you cannot succeed with this task, you may import the function `train_LDAshrink` from `bci_helper_sheet04_pythonPV.pyc` (available at the moodle page) with PV being your python version (27,35,36,37) for the subsequent exercises."
   ]
  },
  {
   "cell_type": "code",
   "execution_count": 2,
   "metadata": {},
   "outputs": [],
   "source": [
    "def cov_shrink(X):\n",
    "    '''\n",
    "    Estimate covariance of given data using shrinkage estimator.\n",
    "    \n",
    "    Synopsis:\n",
    "        C= cov_shrink(X)\n",
    "    Argument:\n",
    "        X: data matrix (features x samples)\n",
    "    Output:\n",
    "        C: estimated covariance matrix\n",
    "        \n",
    "    '''\n",
    "    emp_mean = np.mean(X,axis=0)\n",
    "    var_sum = np.sum([np.var(np.outer(X[i]-emp_mean, (X[i]-emp_mean).T)) for i in range(X.shape[0])])\n",
    "    K = X.shape[0]\n",
    "    v = np.trace(np.cov(X)) / X.shape[0]\n",
    "    m = np.cov(X) - v * np.eye(np.cov(X).shape[0])\n",
    "    sum_s = np.sum(np.power(m,2))\n",
    "    \n",
    "    gamma_star = (K / (K-1)**2) * var_sum / sum_s \n",
    "      \n",
    "    C = (1-gamma_star) * np.cov(X) + gamma_star * v * np.eye(np.cov(X).shape[0])\n",
    "    \n",
    "    return C"
   ]
  },
  {
   "cell_type": "markdown",
   "metadata": {},
   "source": [
    "## Exercise 2: Implementation of LDA with Shrinkage  (3 points)\n",
    "Implement a function `train_LDAshrink` that calculates the LDA classifier in which the estimation of the covariance matrices is enhanced by shrinkage. Input and output should be the same as for `train_LDA` from sheet \\#03. As for LDA, use the pseudo inverse (`numpy.linalg.pinv`) instead of the usual matrix inversion. \n",
    "\n",
    "If you cannot succeed with this task, you may import the function `train_LDAshrink` from `bci_helper_sheet04_pythonPV.pyc` (available at the moodle page) with PV being your python version (27,35,36,37) for the subsequent exercises."
   ]
  },
  {
   "cell_type": "code",
   "execution_count": 3,
   "metadata": {},
   "outputs": [],
   "source": [
    "def train_LDAshrink(X, y):\n",
    "    '''\n",
    "    Synopsis:\n",
    "        w, b= train_LDAshrink(X, y)\n",
    "    Arguments:\n",
    "        X: data matrix (features X samples)\n",
    "        y: labels with values 0 and 1 (1 x samples)\n",
    "    Output:\n",
    "        w: LDA weight vector\n",
    "        b: bias term\n",
    "    '''\n",
    "    mu0 = np.mean(X[:, y == 0],axis = 1)\n",
    "    mu1 = np.mean(X[:, y == 1],axis = 1)\n",
    "    \n",
    "    cov_0 = cov_shrink(X[:, y==0])\n",
    "    cov_1 = cov_shrink(X[:, y==1])\n",
    "    cov = (cov_0 + cov_1) /2\n",
    "    \n",
    "    w = np.linalg.pinv(cov).dot(mu1 - mu0)\n",
    "    b = ((w.T.dot(mu0) + w.T.dot(mu1))/2)\n",
    "    return w, b"
   ]
  },
  {
   "cell_type": "markdown",
   "metadata": {},
   "source": [
    "## Preparation: Load data"
   ]
  },
  {
   "cell_type": "code",
   "execution_count": 4,
   "metadata": {},
   "outputs": [],
   "source": [
    "fname = 'erp_hexVPsag.npz'\n",
    "cnt, fs, clab, mnt, mrk_pos, mrk_class, mrk_className = bci.load_data(fname)\n"
   ]
  },
  {
   "cell_type": "markdown",
   "metadata": {},
   "source": [
    "## Exercise 3: Classification of Spatio-Temporal Features  (5 points)\n",
    "First, use the time-averaged potential in each of the intervals [ms]: 160-200, 200-220, 230-260, 260-290, 300-320, 330-370, 380-430, and 480-520 as feature vector (dimension 55 `x` 1) for each trial. For each interval calculate the 3-fold cross-validation error using LDA with and without shrinkage.\n",
    "\n",
    "In a second step, concatenate the eight feature vectors, that were calcualted for the eight specified intervals into one feature vector (dimension 440 `x` 1) for each trial. Again, determine the 3-fold cross-validation error using LDA with and without shrinkage."
   ]
  },
  {
   "cell_type": "code",
   "execution_count": 5,
   "metadata": {},
   "outputs": [
    {
     "name": "stdout",
     "output_type": "stream",
     "text": [
      "[[[48.65345419 46.19005505 35.96282709 37.95521788 40.19518996\n",
      "   36.29107094 41.22759402 54.47791667]]\n",
      "\n",
      " [[49.97466929 46.12198726 35.85639708 37.33153143 39.65066444\n",
      "   37.88930595 44.30176256 52.77233212]]]\n",
      "\n",
      "LDA w/o shrink test error:  26.291785440634587\n",
      "LDA with shrink test error:  27.75128375323933\n"
     ]
    },
    {
     "data": {
      "image/png": "[encoded data removed]",
      "text/plain": [
       "<matplotlib.figure.Figure at 0x23e45795a20>"
      ]
     },
     "metadata": {},
     "output_type": "display_data"
    }
   ],
   "source": [
    "ival = [[160, 200], [200, 220], [230, 260], [260, 290], [300, 320], [330, 370], [380, 430], [480, 520]]\n",
    "\n",
    "# Segment continuous data into epochs:\n",
    "x = []\n",
    "for i in range(len(ival)):\n",
    "    x.append(bci.makeepochs(cnt, fs, mrk_pos, ival[i]))\n",
    "\n",
    "l = np.array(x)\n",
    "\n",
    "loss_test_lda_list =[]\n",
    "loss_test_lda_shrink_list = []\n",
    "conc_list = []\n",
    "\n",
    "for i in range(l.shape[0]):\n",
    "    epo_temp = l[i][0]\n",
    "    X = np.mean(epo_temp,axis=0)\n",
    "    conc_list.append(X)\n",
    "    loss_test_lda_list.append(cfy.crossvalidation(cfy.train_LDA, X, mrk_class, folds=3, verbose=False)[0])\n",
    "    loss_test_lda_shrink_list.append(cfy.crossvalidation(train_LDAshrink, X, mrk_class, folds=3, verbose=False)[0])\n",
    "\n",
    "b = np.array([[loss_test_lda_list],[loss_test_lda_shrink_list]])\n",
    "print(b)\n",
    "\n",
    "classifiers = ['LDA', 'LDA_shrink']\n",
    "for i in range(len(classifiers)):\n",
    "    plt.subplot(1,2,i+1)\n",
    "    plt.plot(np.mean(np.array(ival),axis=1), b[i].T)\n",
    "    \n",
    "    plt.title('Classification using ' + classifiers[i])\n",
    "    plt.xlabel(\"time[ms]\")\n",
    "    plt.ylim(30,60)\n",
    "    plt.ylabel(\"Classification error [%]\")\n",
    "    plt.grid()\n",
    "\n",
    "plt.subplots_adjust(left = 0.1, right = 2, bottom = 0.1, top = 0.9, wspace = 0.2, hspace = 0.2)\n",
    "\n",
    "############################## 2nd part #########################################################################\n",
    "\n",
    "a = np.concatenate(np.array(conc_list),axis=0)\n",
    "\n",
    "lda_test_error = cfy.crossvalidation(cfy.train_LDA, a, mrk_class, folds=3, verbose=False)[0]\n",
    "lda_shrink_test_error = cfy.crossvalidation(train_LDAshrink, a, mrk_class, folds=3, verbose=False)[0]\n",
    "\n",
    "print(\"\\nLDA w/o shrink test error: \", lda_test_error)\n",
    "print(\"LDA with shrink test error: \", lda_shrink_test_error)\n",
    "\n"
   ]
  }
 ],
 "metadata": {
  "anaconda-cloud": {},
  "kernelspec": {
   "display_name": "Python 3",
   "language": "python",
   "name": "python3"
  },
  "language_info": {
   "codemirror_mode": {
    "name": "ipython",
    "version": 3
   },
   "file_extension": ".py",
   "mimetype": "text/x-python",
   "name": "python",
   "nbconvert_exporter": "python",
   "pygments_lexer": "ipython3",
   "version": "3.6.8"
  }
 },
 "nbformat": 4,
 "nbformat_minor": 1
}
