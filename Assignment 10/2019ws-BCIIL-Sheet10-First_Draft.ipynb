{
 "cells": [
  {
   "cell_type": "markdown",
   "metadata": {},
   "source": [
    "### General rules:\n",
    " * For all figures that you generate, remember to add meaningful labels to the axes, and make a legend, if applicable.\n",
    " * Do not hard code constants, like number of samples, number of channels, etc in your program. These values should always be determined from the given data. This way, you can easily use the code to analyse other data sets.\n",
    " * Do not use high-level functions from toolboxes like scikit-learn.\n",
    " * Replace *Template* by your *FirstnameLastname* in the filename, or by *Lastname1Lastname2* if you work in pairs."
   ]
  },
  {
   "cell_type": "markdown",
   "metadata": {},
   "source": [
    "# BCI-IL - Exercise Sheet #10"
   ]
  },
  {
   "cell_type": "markdown",
   "metadata": {},
   "source": [
    "#### Name:"
   ]
  },
  {
   "cell_type": "code",
   "execution_count": 6,
   "metadata": {},
   "outputs": [],
   "source": [
    "% matplotlib inline\n",
    "\n",
    "import numpy as np\n",
    "import scipy as sp\n",
    "import scipy.signal\n",
    "from matplotlib import pyplot as plt\n",
    "\n",
    "import bci_minitoolbox as bci\n",
    "import bci_classifiers as cfy"
   ]
  },
  {
   "cell_type": "markdown",
   "metadata": {},
   "source": [
    "## Preparation: Load data\n",
    "*Note: As SSD and TDSEP are independent of labels, the markers are obsolete for the actual tasks, but you can use them to plot results for the different classes in the end if you want.*"
   ]
  },
  {
   "cell_type": "code",
   "execution_count": 12,
   "metadata": {},
   "outputs": [
    {
     "name": "stdout",
     "output_type": "stream",
     "text": [
      "(52, 34780)\n"
     ]
    }
   ],
   "source": [
    "fname = 'relaxVPis.npz'\n",
    "cnt, fs, clab, mnt, mrk_pos, mrk_class, mrk_className = bci.load_data(fname)\n",
    "\n",
    "cnt = cnt.T\n",
    "print(cnt.shape)"
   ]
  },
  {
   "cell_type": "markdown",
   "metadata": {},
   "source": [
    "## Exercise 1: SSD decomposition (6 points)\n",
    "Implement a function SSD that performs a SSD decomposition of continuous EEG data for a given central and two flanking frequency bands. Design a butterworth band-pass filter of order N=*filterorder* with the frequency *center_band* (function `sp.signal.butter`) for the central fequency band and design similarly two sets of band-pass filters  of the same order for the flanking frequency bands *flank1_band* and *flank2_band*.\n",
    "The function's output should be: $\\bf W$ and $\\bf A$ containing the filters and patterns in their columns, respectively, $\\bf D$ is a diagonal matrix with the eigenvalues of the filters on the diagonal and $\\bf Y$ is the data projected on the filters."
   ]
  },
  {
   "cell_type": "code",
   "execution_count": 34,
   "metadata": {},
   "outputs": [],
   "source": [
    "def train_SSD(cnt, center_band, flank1_band, flank2_band, filterorder, fs):\n",
    "    ''' Usage: W, A, D, Y = trainSSD(cnt, center_band, flank1_band, flank2_band, filterorder, fs) '''\n",
    "    \n",
    "    \n",
    "    # Get the BP filtered coefficients\n",
    "    N = filterorder\n",
    "        \n",
    "    # Get filter coefficients    \n",
    "    b_f, a_f = sp.signal.butter(N, np.array(center_band) / fs * 2,btype='bandpass')\n",
    "    b_f1, a_f1 = sp.signal.butter(N, np.array(flank1_band) / fs * 2,btype='bandpass')    \n",
    "    b_f2, a_f2 = sp.signal.butter(N, np.array(flank2_band) / fs * 2,btype='bandpass')\n",
    "    \n",
    "    # Define the Signal and noise Measurements     \n",
    "    Ms  = sp.signal.lfilter(b_f, a_f, cnt)         \n",
    "    X_f1 = sp.signal.lfilter(b_f1, a_f1, cnt)\n",
    "    X_f2 = sp.signal.lfilter(b_f2, a_f2, cnt)\n",
    "    Mn = ( X_f1 + X_f2 ) / 2\n",
    "\n",
    "    C_s = np.cov(Ms)\n",
    "    C_n = np.cov(Mn)\n",
    "\n",
    "    D, V = sp.linalg.eig(C_s)\n",
    "\n",
    "    C_s_r = V.T * C_s * V\n",
    "    C_n_r = V.T * C_n * V \n",
    "\n",
    "\n",
    "    d, W = sp.linalg.eig(C_s_r, C_s_r + C_n_r )\n",
    "\n",
    "    Y = V * W  \n",
    "\n",
    "    A = C_s * W / (W.T* C_s * W)\n",
    "    \n",
    "    D = np.diag(d)\n",
    "    \n",
    "    return W, A, D, Y \n",
    "    \n",
    "    \n",
    "    \n",
    "    \n",
    "    "
   ]
  },
  {
   "cell_type": "code",
   "execution_count": 35,
   "metadata": {},
   "outputs": [],
   "source": [
    "# N = 5\n",
    " \n",
    "# # Define the Frequency bands    \n",
    "# center_band = [11.,15.]\n",
    "# flank1_band = [8.,10.]\n",
    "# flank2_band = [16., 18.]\n",
    "    \n",
    "# # Get filter coefficients    \n",
    "# b_f, a_f = sp.signal.butter(N, np.array(center_band) / fs * 2,btype='bandpass')\n",
    "# b_f1, a_f1 = sp.signal.butter(N, np.array(flank1_band) / fs * 2,btype='bandpass')    \n",
    "# b_f2, a_f2 = sp.signal.butter(N, np.array(flank2_band) / fs * 2,btype='bandpass')\n",
    "    \n",
    "# # Define the Signal and noise Measurements     \n",
    "# Ms  = sp.signal.lfilter(b_f, a_f, cnt)         \n",
    "# X_f1 = sp.signal.lfilter(b_f1, a_f1, cnt)\n",
    "# X_f2 = sp.signal.lfilter(b_f2, a_f2, cnt)\n",
    "# Mn = ( X_f1 + X_f2 ) / 2\n",
    "\n",
    "# C_s = np.cov(Ms)\n",
    "# C_n = np.cov(Mn)\n",
    "\n",
    "# D, V = sp.linalg.eig(C_s)\n",
    "\n",
    "# C_s_r = V.T * C_s * V\n",
    "# C_n_r = V.T * C_n * V \n",
    "\n",
    "\n",
    "# D, W = sp.linalg.eig(C_s_r, C_s_r + C_n_r )\n",
    "\n",
    "# Y = V * W  \n",
    "\n",
    "# A = C_s * W / (W.T* C_s * W)\n"
   ]
  },
  {
   "cell_type": "markdown",
   "metadata": {},
   "source": [
    "## Exercise 2 : TDSEP demixing (6 points)\n",
    "Implement a function TDSEP that performs a TDSEP demixing on continuous EEG data, using the implementation for *two* time lags, as presented in the lecture. Output is the same as for the function SSD: $\\bf W$ and $\\bf A$ containing the filters and patterns in their columns, respectively, $\\bf D$ is a diagonal matrix with the eigenvalues of the filters on the diagonal and $\\bf Y$ is the data projected on the filters."
   ]
  },
  {
   "cell_type": "code",
   "execution_count": 1,
   "metadata": {},
   "outputs": [],
   "source": [
    "def train_TDSEP(cnt):\n",
    "    ''' Usage: W, A, D, Y= train_TDSEP(cnt) '''\n",
    "    # Pre-processing with a high pass filter\n",
    "    N = 5 \n",
    "    freq_filter = 0.04\n",
    "\n",
    "    b, a = sp.signal.butter(N, freq_filter / fs * 2, btype='highpass')\n",
    "    X = sp.signal.lfilter(b, a, cnt) \n",
    "\n",
    "    C_s = 0.5*(X[:,:-1]*X[:,1:].T + X[:,:-1].T*X[:,1:])\n",
    "\n",
    "    D, W = sp.linalg.eig(C_s)\n",
    "\n",
    "    Y = W.T * X \n",
    "\n",
    "    A = C_s * W / (W.T* C_s * W)\n",
    "\n",
    "    D = np.diag(D)\n",
    "\n",
    "    return W, A, D, Y"
   ]
  },
  {
   "cell_type": "code",
   "execution_count": 37,
   "metadata": {},
   "outputs": [],
   "source": [
    "\n",
    "\n",
    "\n",
    "\n",
    "\n",
    "\n",
    "\n",
    "\n"
   ]
  },
  {
   "cell_type": "markdown",
   "metadata": {},
   "source": [
    "## Exercise 3: Validation (3 points)\n",
    "Run the two algorithms on the data set.\n",
    "For SSD, use 11-15 Hz for the central frequency band, 8-10 Hz and 16-18 Hz for the *two* flanking frequency bands with a filter order of *N=5*.\n",
    "For TDSEP use [0 1] as the two time lags and preprocess the data before with a 0.04 Hz butterworth *high-pass* filter of order 5. \n",
    "For both methods, visualize the filter, pattern and projected data corresponding to the two smallest and the two largest Eigenvalues.\n",
    "\n",
    "*Note: The actual digital filter order will be 10 for a bandpass with N=5. This is due to the fact that N is filter theoretic depicting the slope in the stop bands: a band-pass is a combined high and low-pass filter leading to the double digital order.*"
   ]
  },
  {
   "cell_type": "code",
   "execution_count": null,
   "metadata": {},
   "outputs": [],
   "source": []
  }
 ],
 "metadata": {
  "anaconda-cloud": {},
  "kernelspec": {
   "display_name": "Python 3",
   "language": "python",
   "name": "python3"
  },
  "language_info": {
   "codemirror_mode": {
    "name": "ipython",
    "version": 3
   },
   "file_extension": ".py",
   "mimetype": "text/x-python",
   "name": "python",
   "nbconvert_exporter": "python",
   "pygments_lexer": "ipython3",
   "version": "3.6.9"
  }
 },
 "nbformat": 4,
 "nbformat_minor": 1
}
