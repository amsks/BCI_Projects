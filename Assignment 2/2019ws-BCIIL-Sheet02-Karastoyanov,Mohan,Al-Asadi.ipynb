{
 "cells": [
  {
   "cell_type": "markdown",
   "metadata": {},
   "source": [
    "# BCI-IL - Exercise Sheet #02"
   ]
  },
  {
   "cell_type": "markdown",
   "metadata": {},
   "source": [
    "### General rules:\n",
    " * For all figures that you generate, remember to add meaningful labels to the axes (including units), and provide a legend and colorbar, if applicable.\n",
    " * Do not hard code constants, like number of samples, number of channels, etc in your program. These values should always be determined from the given data. This way, you can easily use the code to analyse other data sets.\n",
    " * Do not use high-level functions from toolboxes like scikit-learn.\n",
    " * Before submitting, check your code by executing: Kernel -> Restart & run all.\n",
    " * Replace *Template* by your *FirstnameLastname* in the filename, or by *Lastname1Lastname2* if you work in pairs."
   ]
  },
  {
   "cell_type": "markdown",
   "metadata": {},
   "source": [
    "#### Name(s):"
   ]
  },
  {
   "cell_type": "code",
   "execution_count": 3,
   "metadata": {},
   "outputs": [],
   "source": [
    "%matplotlib inline\n",
    "\n",
    "import numpy as np\n",
    "import scipy as sp\n",
    "from matplotlib import pyplot as plt\n",
    "from matplotlib.patches import Ellipse\n",
    "import matplotlib.transforms as transforms\n",
    "\n",
    "import bci_minitoolbox as bci"
   ]
  },
  {
   "cell_type": "markdown",
   "metadata": {},
   "source": [
    "## Preparation: Loading Data"
   ]
  },
  {
   "cell_type": "code",
   "execution_count": 4,
   "metadata": {},
   "outputs": [],
   "source": [
    "fname = 'erp_hexVPsag.npz'\n",
    "cnt, fs, clab, mnt, mrk_pos, mrk_class, mrk_className = bci.load_data(fname)"
   ]
  },
  {
   "cell_type": "code",
   "execution_count": 5,
   "metadata": {},
   "outputs": [
    {
     "name": "stdout",
     "output_type": "stream",
     "text": [
      "['F7', 'F5', 'F3', 'F1', 'Fz', 'F2', 'F4', 'F6', 'F8', 'FT7', 'FC5', 'FC3', 'FC1', 'FCz', 'FC2', 'FC4', 'FC6', 'FT8', 'T7', 'C5', 'C3', 'C1', 'Cz', 'C2', 'C4', 'C6', 'T8', 'TP7', 'CP5', 'CP3', 'CP1', 'CPz', 'CP2', 'CP4', 'CP6', 'TP8', 'P9', 'P7', 'P5', 'P3', 'P1', 'Pz', 'P2', 'P4', 'P6', 'P8', 'P10', 'PO7', 'PO3', 'POz', 'PO4', 'PO8', 'O1', 'Oz', 'O2']\n"
     ]
    }
   ],
   "source": [
    "print (clab)"
   ]
  },
  {
   "cell_type": "markdown",
   "metadata": {},
   "source": [
    "## Exercise 1: Scatter Plot of 2D Features  (8 points)"
   ]
  },
  {
   "cell_type": "markdown",
   "metadata": {},
   "source": [
    "Make a scatter plot of the two distributions - *targets* and *nontargets*, one dot for each trial. On the `x`-axis, plot the value of channel Cz at `t` = 380 ms, and at the `y`-axis the value of PO3 at `t` = 300 ms. *(You may refer to the results of sheet 01 for the reason of this choice.)*\n",
    "Draw for both distributions the two principal axes, with the lengths of the axes being the standard deviation of the data in that direction. \n",
    "Draw also the corresponding ellipses. **Hint:** You can get that with a transformation of the unit circle as on the slide *Illustration of Multiplication ...*."
   ]
  },
  {
   "cell_type": "code",
   "execution_count": 1,
   "metadata": {},
   "outputs": [
    {
     "ename": "NameError",
     "evalue": "name 'clab' is not defined",
     "output_type": "error",
     "traceback": [
      "\u001b[0;31m---------------------------------------------------------------------------\u001b[0m",
      "\u001b[0;31mNameError\u001b[0m                                 Traceback (most recent call last)",
      "\u001b[0;32m<ipython-input-1-25fd34b774da>\u001b[0m in \u001b[0;36m<module>\u001b[0;34m()\u001b[0m\n\u001b[1;32m      6\u001b[0m \u001b[0;34m\u001b[0m\u001b[0m\n\u001b[1;32m      7\u001b[0m \u001b[0mchannels\u001b[0m \u001b[0;34m=\u001b[0m \u001b[0;34m[\u001b[0m\u001b[0;34m'Cz'\u001b[0m\u001b[0;34m,\u001b[0m\u001b[0;34m'PO3'\u001b[0m\u001b[0;34m]\u001b[0m\u001b[0;34m\u001b[0m\u001b[0;34m\u001b[0m\u001b[0m\n\u001b[0;32m----> 8\u001b[0;31m \u001b[0mchans\u001b[0m \u001b[0;34m=\u001b[0m \u001b[0;34m[\u001b[0m \u001b[0mclab\u001b[0m\u001b[0;34m.\u001b[0m\u001b[0mindex\u001b[0m\u001b[0;34m(\u001b[0m\u001b[0mx\u001b[0m\u001b[0;34m)\u001b[0m \u001b[0;32mfor\u001b[0m \u001b[0mx\u001b[0m \u001b[0;32min\u001b[0m \u001b[0mchannels\u001b[0m\u001b[0;34m]\u001b[0m\u001b[0;34m\u001b[0m\u001b[0;34m\u001b[0m\u001b[0m\n\u001b[0m\u001b[1;32m      9\u001b[0m \u001b[0;34m\u001b[0m\u001b[0m\n\u001b[1;32m     10\u001b[0m \u001b[0mtime_points\u001b[0m \u001b[0;34m=\u001b[0m \u001b[0;34m[\u001b[0m\u001b[0;36m380\u001b[0m\u001b[0;34m,\u001b[0m\u001b[0;36m300\u001b[0m\u001b[0;34m]\u001b[0m\u001b[0;34m\u001b[0m\u001b[0;34m\u001b[0m\u001b[0m\n",
      "\u001b[0;32m<ipython-input-1-25fd34b774da>\u001b[0m in \u001b[0;36m<listcomp>\u001b[0;34m(.0)\u001b[0m\n\u001b[1;32m      6\u001b[0m \u001b[0;34m\u001b[0m\u001b[0m\n\u001b[1;32m      7\u001b[0m \u001b[0mchannels\u001b[0m \u001b[0;34m=\u001b[0m \u001b[0;34m[\u001b[0m\u001b[0;34m'Cz'\u001b[0m\u001b[0;34m,\u001b[0m\u001b[0;34m'PO3'\u001b[0m\u001b[0;34m]\u001b[0m\u001b[0;34m\u001b[0m\u001b[0;34m\u001b[0m\u001b[0m\n\u001b[0;32m----> 8\u001b[0;31m \u001b[0mchans\u001b[0m \u001b[0;34m=\u001b[0m \u001b[0;34m[\u001b[0m \u001b[0mclab\u001b[0m\u001b[0;34m.\u001b[0m\u001b[0mindex\u001b[0m\u001b[0;34m(\u001b[0m\u001b[0mx\u001b[0m\u001b[0;34m)\u001b[0m \u001b[0;32mfor\u001b[0m \u001b[0mx\u001b[0m \u001b[0;32min\u001b[0m \u001b[0mchannels\u001b[0m\u001b[0;34m]\u001b[0m\u001b[0;34m\u001b[0m\u001b[0;34m\u001b[0m\u001b[0m\n\u001b[0m\u001b[1;32m      9\u001b[0m \u001b[0;34m\u001b[0m\u001b[0m\n\u001b[1;32m     10\u001b[0m \u001b[0mtime_points\u001b[0m \u001b[0;34m=\u001b[0m \u001b[0;34m[\u001b[0m\u001b[0;36m380\u001b[0m\u001b[0;34m,\u001b[0m\u001b[0;36m300\u001b[0m\u001b[0;34m]\u001b[0m\u001b[0;34m\u001b[0m\u001b[0;34m\u001b[0m\u001b[0m\n",
      "\u001b[0;31mNameError\u001b[0m: name 'clab' is not defined"
     ]
    }
   ],
   "source": [
    "# Follow the same approach as exercise 2 to get the epoch of a continuoussignal which will contain the data points\n",
    "# for which the potential needs to be extracted\n",
    "\n",
    "ival= [-100, 1000]\n",
    "ref_ival= [-100, 0]\n",
    "\n",
    "channels = ['Cz','PO3']\n",
    "chans = [ clab.index(x) for x in channels]\n",
    "\n",
    "time_points = [380,300]\n",
    "\n",
    "# Segment continuous data into epochs:\n",
    "epo, epo_t = bci.makeepochs(cnt, fs, mrk_pos, ival)\n",
    "\n",
    "# Baseline correction:\n",
    "epo = bci.baseline(epo, epo_t, ref_ival)\n",
    "\n",
    "Cz_380_t = epo[list(epo_t).index(time_points[0]),chans[0],mrk_class==0]\n",
    "PO3_300_t = epo[list(epo_t).index(time_points[1]),chans[1],mrk_class==0]\n",
    "\n",
    "Cz_380_nt = epo[list(epo_t).index(time_points[0]),chans[0],mrk_class==1]\n",
    "PO3_300_nt = epo[list(epo_t).index(time_points[1]),chans[1],mrk_class==1]\n",
    "\n",
    "Y = np.vstack((Cz_380_t, PO3_300_t))      #stack the target arrays together\n",
    "Z = np.vstack((Cz_380_nt, PO3_300_nt))    #stack the non-target arrays together\n",
    "\n",
    "mean_x = np.mean(Y[0,:])                  # get the mean of of all the targets in Cz\n",
    "mean_y = np.mean(Y[1,:])                  # get the mean of of all the targets in PO3      \n",
    "mean_vector = np.array([[mean_x],[mean_y]]).reshape(2,)  #concatenat the mean vectors and stack them as two rows\n",
    "cov_mat = np.cov(Y)                       # covariance matrix of targets\n",
    "eig_vals, eig_vecs = np.linalg.eig(cov_mat)\n",
    "\n",
    "mean_x_nt = np.mean(Z[0,:])\n",
    "mean_y_nt = np.mean(Z[1,:])\n",
    "mean_vector_nt = np.array([[mean_x_nt],[mean_y_nt]]).reshape(2,)\n",
    "cov_mat_nt = np.cov(Z)\n",
    "eig_vals_nt, eig_vecs_nt = np.linalg.eig(cov_mat_nt)\n",
    "\n",
    "print('Mean Vector:\\n', mean_vector) # pca.mean_\n",
    "print('Covariance Matrix:\\n',cov_mat) #pca.get_covariance\n",
    "print('Eigenvalues:\\n',eig_vals) # pca.explained_variance_\n",
    "print('Eigenvectors:\\n',eig_vecs) #pca.components_\n",
    "\n",
    "####################################################\n",
    "def draw_vector(v0, v1, ax=None):\n",
    "    ax = ax or plt.gca()\n",
    "    arrowprops=dict(arrowstyle='->',\n",
    "                    linewidth=2,\n",
    "                    shrinkA=0, \n",
    "                    shrinkB=0)\n",
    "    ax.annotate('', v1, v0, arrowprops=arrowprops)\n",
    "\n",
    "plt.scatter(Y[0,:], Y[1,:], alpha=0.5, label = 'Target')\n",
    "plt.scatter(Z[0,:], Z[1,:], alpha=0.1, label = 'Nontarget')\n",
    "\n",
    "for length, vector in zip(eig_vals,eig_vecs):\n",
    "    v = vector * np.sqrt(length)\n",
    "    draw_vector(mean_vector.T,mean_vector.T + v)\n",
    "    plt.axis('equal');\n",
    "    \n",
    "for length, vector in zip(eig_vals_nt,eig_vecs_nt):\n",
    "    v = vector * np.sqrt(length)\n",
    "    draw_vector(mean_vector_nt.T,mean_vector_nt.T + v)\n",
    "    plt.axis('equal');\n",
    "    \n",
    "def eigsorted(cov):\n",
    "    vals, vecs = np.linalg.eigh(cov)\n",
    "    order = vals.argsort()[::-1]\n",
    "    return vals[order], vecs[:,order]\n",
    "\n",
    "nstd = 1                                           # Took the confidence value for one standard deviation\n",
    "# ax = plt.subplot(111)\n",
    "\n",
    "vals, vecs = eigsorted(cov_mat)\n",
    "theta = np.degrees(np.arctan2(*vecs[:,0][::-1]))\n",
    "w, h = 2 * nstd * np.sqrt(vals)\n",
    "ell = Ellipse(xy=(mean_x, mean_y),\n",
    "              width=w, height=h,\n",
    "              angle=theta, color='black')\n",
    "ell.set_facecolor('none')\n",
    "plt.gca().add_patch(ell)\n",
    "\n",
    "vals_nt, vecs_nt = eigsorted(cov_mat_nt)\n",
    "theta = np.degrees(np.arctan2(*vecs[:,0][::-1]))\n",
    "w, h = 2 * nstd * np.sqrt(vals_nt)\n",
    "ell = Ellipse(xy=(mean_x_nt, mean_y_nt),\n",
    "              width=w, height=h,\n",
    "              angle=theta, color='black')\n",
    "ell.set_facecolor('none')\n",
    "plt.gca().add_patch(ell)\n",
    "\n",
    "plt.xlim(-40, 40)\n",
    "plt.ylim(-40, 40) \n",
    "plt.title('Target and Nontarget distributions for Channels Cz and PO3 ')\n",
    "plt.xlabel(\"Channel Cz at time t = 380 ms\" + '$[\\mathrm{\\mu V}]$')\n",
    "plt.ylabel(\"Channel PO3 at time t = 300 ms\" + '$[\\mathrm{\\mu V}]$')\n",
    "plt.grid()\n",
    "plt.legend()"
   ]
  },
  {
   "cell_type": "markdown",
   "metadata": {},
   "source": [
    "## Exercise 2: Covariances and Eigenvalues  (7 points)"
   ]
  },
  {
   "cell_type": "markdown",
   "metadata": {
    "collapsed": true
   },
   "source": [
    "Calculate the channelwise covariance matrices (channel `x` channel) of the data for time point 380 ms for both classes (`np.cov`) and visualize them (`pl.imshow`). \n",
    "Perform an Eigenvalue decomposition (`np.linalg.eigh`) of the covariance matrices and plot (again class-wise) the eigenvalue spectrum. Then determine the four principle components (Eigenvectors) for each class that correspond to the largest Eigenvalues and display them as scalp maps (function `scalpmap` provided in the `bci_minitoolbox`)."
   ]
  },
  {
   "cell_type": "code",
   "execution_count": 11,
   "metadata": {
    "scrolled": false
   },
   "outputs": [
    {
     "ename": "LinAlgError",
     "evalue": "Array must not contain infs or NaNs",
     "output_type": "error",
     "traceback": [
      "\u001b[0;31m---------------------------------------------------------------------------\u001b[0m",
      "\u001b[0;31mLinAlgError\u001b[0m                               Traceback (most recent call last)",
      "\u001b[0;32m<ipython-input-11-3d87c0e5232e>\u001b[0m in \u001b[0;36m<module>\u001b[0;34m()\u001b[0m\n\u001b[1;32m     13\u001b[0m \u001b[0;31m# covariance matrix for non-targets\u001b[0m\u001b[0;34m\u001b[0m\u001b[0;34m\u001b[0m\u001b[0;34m\u001b[0m\u001b[0m\n\u001b[1;32m     14\u001b[0m \u001b[0;34m\u001b[0m\u001b[0m\n\u001b[0;32m---> 15\u001b[0;31m \u001b[0mlambda_t\u001b[0m\u001b[0;34m,\u001b[0m \u001b[0mE_t\u001b[0m \u001b[0;34m=\u001b[0m \u001b[0mnp\u001b[0m\u001b[0;34m.\u001b[0m\u001b[0mlinalg\u001b[0m\u001b[0;34m.\u001b[0m\u001b[0meig\u001b[0m\u001b[0;34m(\u001b[0m\u001b[0mcov_t\u001b[0m\u001b[0;34m)\u001b[0m\u001b[0;34m\u001b[0m\u001b[0;34m\u001b[0m\u001b[0m\n\u001b[0m\u001b[1;32m     16\u001b[0m \u001b[0mlambda_nt\u001b[0m\u001b[0;34m,\u001b[0m \u001b[0mE_nt\u001b[0m \u001b[0;34m=\u001b[0m \u001b[0mnp\u001b[0m\u001b[0;34m.\u001b[0m\u001b[0mlinalg\u001b[0m\u001b[0;34m.\u001b[0m\u001b[0meig\u001b[0m\u001b[0;34m(\u001b[0m\u001b[0mcov_nt\u001b[0m\u001b[0;34m)\u001b[0m\u001b[0;34m\u001b[0m\u001b[0;34m\u001b[0m\u001b[0m\n\u001b[1;32m     17\u001b[0m \u001b[0mi1\u001b[0m \u001b[0;34m=\u001b[0m \u001b[0mlambda_t\u001b[0m\u001b[0;34m.\u001b[0m\u001b[0margsort\u001b[0m\u001b[0;34m(\u001b[0m\u001b[0;34m)\u001b[0m\u001b[0;34m[\u001b[0m\u001b[0;34m:\u001b[0m\u001b[0;34m:\u001b[0m\u001b[0;34m-\u001b[0m\u001b[0;36m1\u001b[0m\u001b[0;34m]\u001b[0m\u001b[0;34m\u001b[0m\u001b[0;34m\u001b[0m\u001b[0m\n",
      "\u001b[0;32m<__array_function__ internals>\u001b[0m in \u001b[0;36meig\u001b[0;34m(*args, **kwargs)\u001b[0m\n",
      "\u001b[0;32m/usr/local/lib/python3.6/dist-packages/numpy/linalg/linalg.py\u001b[0m in \u001b[0;36meig\u001b[0;34m(a)\u001b[0m\n\u001b[1;32m   1303\u001b[0m     \u001b[0m_assertRankAtLeast2\u001b[0m\u001b[0;34m(\u001b[0m\u001b[0ma\u001b[0m\u001b[0;34m)\u001b[0m\u001b[0;34m\u001b[0m\u001b[0;34m\u001b[0m\u001b[0m\n\u001b[1;32m   1304\u001b[0m     \u001b[0m_assertNdSquareness\u001b[0m\u001b[0;34m(\u001b[0m\u001b[0ma\u001b[0m\u001b[0;34m)\u001b[0m\u001b[0;34m\u001b[0m\u001b[0;34m\u001b[0m\u001b[0m\n\u001b[0;32m-> 1305\u001b[0;31m     \u001b[0m_assertFinite\u001b[0m\u001b[0;34m(\u001b[0m\u001b[0ma\u001b[0m\u001b[0;34m)\u001b[0m\u001b[0;34m\u001b[0m\u001b[0;34m\u001b[0m\u001b[0m\n\u001b[0m\u001b[1;32m   1306\u001b[0m     \u001b[0mt\u001b[0m\u001b[0;34m,\u001b[0m \u001b[0mresult_t\u001b[0m \u001b[0;34m=\u001b[0m \u001b[0m_commonType\u001b[0m\u001b[0;34m(\u001b[0m\u001b[0ma\u001b[0m\u001b[0;34m)\u001b[0m\u001b[0;34m\u001b[0m\u001b[0;34m\u001b[0m\u001b[0m\n\u001b[1;32m   1307\u001b[0m \u001b[0;34m\u001b[0m\u001b[0m\n",
      "\u001b[0;32m/usr/local/lib/python3.6/dist-packages/numpy/linalg/linalg.py\u001b[0m in \u001b[0;36m_assertFinite\u001b[0;34m(*arrays)\u001b[0m\n\u001b[1;32m    216\u001b[0m     \u001b[0;32mfor\u001b[0m \u001b[0ma\u001b[0m \u001b[0;32min\u001b[0m \u001b[0marrays\u001b[0m\u001b[0;34m:\u001b[0m\u001b[0;34m\u001b[0m\u001b[0;34m\u001b[0m\u001b[0m\n\u001b[1;32m    217\u001b[0m         \u001b[0;32mif\u001b[0m \u001b[0;32mnot\u001b[0m \u001b[0;34m(\u001b[0m\u001b[0misfinite\u001b[0m\u001b[0;34m(\u001b[0m\u001b[0ma\u001b[0m\u001b[0;34m)\u001b[0m\u001b[0;34m.\u001b[0m\u001b[0mall\u001b[0m\u001b[0;34m(\u001b[0m\u001b[0;34m)\u001b[0m\u001b[0;34m)\u001b[0m\u001b[0;34m:\u001b[0m\u001b[0;34m\u001b[0m\u001b[0;34m\u001b[0m\u001b[0m\n\u001b[0;32m--> 218\u001b[0;31m             \u001b[0;32mraise\u001b[0m \u001b[0mLinAlgError\u001b[0m\u001b[0;34m(\u001b[0m\u001b[0;34m\"Array must not contain infs or NaNs\"\u001b[0m\u001b[0;34m)\u001b[0m\u001b[0;34m\u001b[0m\u001b[0;34m\u001b[0m\u001b[0m\n\u001b[0m\u001b[1;32m    219\u001b[0m \u001b[0;34m\u001b[0m\u001b[0m\n\u001b[1;32m    220\u001b[0m \u001b[0;32mdef\u001b[0m \u001b[0m_isEmpty2d\u001b[0m\u001b[0;34m(\u001b[0m\u001b[0marr\u001b[0m\u001b[0;34m)\u001b[0m\u001b[0;34m:\u001b[0m\u001b[0;34m\u001b[0m\u001b[0;34m\u001b[0m\u001b[0m\n",
      "\u001b[0;31mLinAlgError\u001b[0m: Array must not contain infs or NaNs"
     ]
    }
   ],
   "source": [
    "t = np.empty((55,55))      # numpy array for targets\n",
    "nt = np.empty((55,55))     # numpy array for non-targets\n",
    "arr =[]\n",
    "\n",
    "for x in clab:\n",
    " temp = epo[list(epo_t).index(time_points[0]),clab.index(x),mrk_class==1]\n",
    " arr.append(temp)\n",
    "    \n",
    "nt = np.vstack(arr) # Stacked array of non-target values\n",
    "\n",
    "cov_t = np.cov(t)\n",
    "cov_nt = np.cov(nt) # covariance matrix for targets\n",
    "# covariance matrix for non-targets\n",
    "\n",
    "lambda_t, E_t = np.linalg.eig(cov_t)\n",
    "lambda_nt, E_nt = np.linalg.eig(cov_nt)\n",
    "i1 = lambda_t.argsort()[::-1]\n",
    "\n",
    "EigenValuesTarget = lambda_t[i1]\n",
    "EigenVectoresTarget = E_t[:,i1]\n",
    "plt.subplot(2, 2, 1)\n",
    "plt.title('Target')\n",
    "plt.xlabel(\"Channels\")\n",
    "plt.ylabel(\"Channels\")\n",
    "plt.grid()\n",
    "plt.plot(np.sqrt(EigenValuesTarget), \"bo--\")\n",
    "plt.subplots_adjust(left = 0.125, right = 1.5, bottom = 0.1, top = 0.9, wspace = 0.5, hspace = 1)\n",
    "i2 = lambda_nt.argsort()[::-1]\n",
    "EigenValuesNonTarget = lambda_nt[i2]\n",
    "EigenVectoresNonTarget = E_nt[:,i2]\n",
    "plt.subplot(2, 2, 2)\n",
    "plt.title('Nontarget')\n",
    "plt.xlabel(\"Channels\")\n",
    "plt.ylabel(\"Channels\")\n",
    "plt.grid()\n",
    "plt.plot(np.sqrt(EigenValuesNonTarget), \"bo--\")\n",
    "fig, axs = plt.subplots(2)\n",
    "axs[0].set_title('targets covariance matrix')\n",
    "axs[0].imshow(cov_t)\n",
    "plt.subplots_adjust(left = 0.125, right = 1.5, bottom = 0.1, top = 0.9, wspace = 0.1, hspace = 1)\n",
    "axs[1].set_title('NonTargets covariance matrix')\n",
    "axs[1].imshow(cov_nt)"
   ]
  },
  {
   "cell_type": "code",
   "execution_count": null,
   "metadata": {},
   "outputs": [],
   "source": []
  }
 ],
 "metadata": {
  "anaconda-cloud": {},
  "kernelspec": {
   "display_name": "Python 3",
   "language": "python",
   "name": "python3"
  },
  "language_info": {
   "codemirror_mode": {
    "name": "ipython",
    "version": 3
   },
   "file_extension": ".py",
   "mimetype": "text/x-python",
   "name": "python",
   "nbconvert_exporter": "python",
   "pygments_lexer": "ipython3",
   "version": "3.6.9"
  }
 },
 "nbformat": 4,
 "nbformat_minor": 1
}
